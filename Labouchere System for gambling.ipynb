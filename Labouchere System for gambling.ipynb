{
 "cells": [
  {
   "cell_type": "code",
   "execution_count": 45,
   "metadata": {
    "collapsed": true
   },
   "outputs": [],
   "source": [
    "import random,time,matplotlib\n",
    "import matplotlib.pyplot as plt\n",
    "from matplotlib import style"
   ]
  },
  {
   "cell_type": "code",
   "execution_count": 46,
   "metadata": {
    "collapsed": true
   },
   "outputs": [],
   "source": [
    "style.use(\"ggplot\")"
   ]
  },
  {
   "cell_type": "code",
   "execution_count": 47,
   "metadata": {
    "collapsed": true
   },
   "outputs": [],
   "source": [
    "broke_count = 0\n",
    "totalFunding = 0\n",
    "totalEnding = 0"
   ]
  },
  {
   "cell_type": "code",
   "execution_count": 48,
   "metadata": {
    "collapsed": true
   },
   "outputs": [],
   "source": [
    "def labouchere():\n",
    "    global broke_count\n",
    "    global totalEnding\n",
    "    global totalFunding\n",
    "    \n",
    "    starting_funds = 100\n",
    "    \n",
    "    totalFunding += starting_funds\n",
    "    \n",
    "    goal = 10\n",
    "    system = [1,1,1,1,1,1,1,1,1,1]\n",
    "    \n",
    "    profit = 0\n",
    "    \n",
    "    current_funds = starting_funds\n",
    "    wagerSizes = []\n",
    "    plot_funds = []\n",
    "    \n",
    "    not_broke = True\n",
    "    \n",
    "    global wins\n",
    "    global losses\n",
    "    \n",
    "    while profit<goal and not_broke:\n",
    "        if len(system)>1:\n",
    "            size = system[0] + system[-1]\n",
    "        else:\n",
    "            size = system[0]\n",
    "            \n",
    "        wagerSizes.append(size)\n",
    "        plot_funds.append(current_funds)\n",
    "        \n",
    "        if current_funds<=0:\n",
    "            not_broke = False\n",
    "            broke_count += 1\n",
    "            \n",
    "        elif current_funds< size:\n",
    "            size = current_funds\n",
    "            not_broke = False\n",
    "            broke_count += 1\n",
    "        \n",
    "        dice = random.randrange(1,101)\n",
    "        \n",
    "        if dice < 51:\n",
    "            losses += 1\n",
    "            system.append(size)\n",
    "            current_funds -= size\n",
    "            profit = current_funds - starting_funds\n",
    "        \n",
    "        else:\n",
    "            wins += 1\n",
    "            current_funds += size\n",
    "            \n",
    "            profit = current_funds - starting_funds\n",
    "            if profit != goal:\n",
    "                try:\n",
    "                    del system[0]\n",
    "                    del system[-1]\n",
    "                except:\n",
    "                    pass\n",
    "        \n",
    "        \n",
    "    wagerSizes.append(size)\n",
    "    plot_funds.append(current_funds)\n",
    "    \n",
    "    totalEnding += current_funds\n",
    "    \n",
    "    s1.plot(wagerSizes)\n",
    "    s2.plot(plot_funds)"
   ]
  },
  {
   "cell_type": "code",
   "execution_count": 49,
   "metadata": {
    "collapsed": true
   },
   "outputs": [],
   "source": [
    "f = plt.figure()\n",
    "s1 = f.add_subplot(211)\n",
    "s2 = f.add_subplot(212)"
   ]
  },
  {
   "cell_type": "code",
   "execution_count": 50,
   "metadata": {
    "collapsed": false
   },
   "outputs": [],
   "source": [
    "sample_size = 10000\n",
    "wins = 0\n",
    "losses = 0\n",
    "\n",
    "for x in xrange(sample_size):\n",
    "    labouchere()"
   ]
  },
  {
   "cell_type": "code",
   "execution_count": 51,
   "metadata": {
    "collapsed": false
   },
   "outputs": [
    {
     "name": "stdout",
     "output_type": "stream",
     "text": [
      "winners: 93990 lossers: 93769\n",
      "Total Funds: 1000000\n",
      "Total Ending 1001205\n",
      "Broke percentage: 10.26\n"
     ]
    }
   ],
   "source": [
    "print \"winners:\",wins,\"lossers:\",losses\n",
    "print \"Total Funds:\",totalFunding\n",
    "print \"Total Ending\",totalEnding\n",
    "print \"Broke percentage:\",(float(broke_count)/sample_size)*100.0\n",
    "plt.show()"
   ]
  },
  {
   "cell_type": "code",
   "execution_count": null,
   "metadata": {
    "collapsed": true
   },
   "outputs": [],
   "source": []
  }
 ],
 "metadata": {
  "kernelspec": {
   "display_name": "Python 2",
   "language": "python",
   "name": "python2"
  },
  "language_info": {
   "codemirror_mode": {
    "name": "ipython",
    "version": 2
   },
   "file_extension": ".py",
   "mimetype": "text/x-python",
   "name": "python",
   "nbconvert_exporter": "python",
   "pygments_lexer": "ipython2",
   "version": "2.7.11"
  }
 },
 "nbformat": 4,
 "nbformat_minor": 0
}
