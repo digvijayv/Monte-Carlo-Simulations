{
 "cells": [
  {
   "cell_type": "code",
   "execution_count": 6,
   "metadata": {
    "collapsed": true
   },
   "outputs": [],
   "source": [
    "import random\n",
    "import matplotlib\n",
    "import matplotlib.pyplot as plt"
   ]
  },
  {
   "cell_type": "code",
   "execution_count": 7,
   "metadata": {
    "collapsed": true
   },
   "outputs": [],
   "source": [
    "def rollDice():\n",
    "    roll = random.randint(1,100)\n",
    "    \n",
    "    if roll == 100:\n",
    "        #print roll,'roll was 100, YOU LOSE!'\n",
    "        return False\n",
    "    elif roll<=50:\n",
    "        #print roll,'roll was 1-50,YOU LOSE!'\n",
    "        return False\n",
    "    elif roll>50:\n",
    "        #print roll,'roll was 51-99,YOU WIN!'\n",
    "        return True\n",
    "    \n",
    "    return roll"
   ]
  },
  {
   "cell_type": "code",
   "execution_count": 8,
   "metadata": {
    "collapsed": false
   },
   "outputs": [],
   "source": [
    "def simple_bettor(funds,initial_wager,wager_count):\n",
    "    value = funds \n",
    "    wager = initial_wager\n",
    "    \n",
    "    wX = []\n",
    "    vY = []\n",
    "    \n",
    "    current_wager = 0\n",
    "    \n",
    "    while current_wager<wager_count:\n",
    "        if rollDice():\n",
    "            value += wager\n",
    "        else:\n",
    "            value -= wager\n",
    "        \n",
    "        wX.append(current_wager)\n",
    "        vY.append(value)\n",
    "            \n",
    "        current_wager += 1\n",
    "        \n",
    "    if value<0:\n",
    "        value = 'broke!'\n",
    "    \n",
    "    #print 'Funds',value\n",
    "    plt.plot(wX,vY)"
   ]
  },
  {
   "cell_type": "code",
   "execution_count": null,
   "metadata": {
    "collapsed": false
   },
   "outputs": [],
   "source": [
    "x = 0\n",
    "\n",
    "while x<100:\n",
    "    x+=1\n",
    "    simple_bettor(10000,100,10000)\n",
    "    \n",
    "plt.ylabel('Account value')\n",
    "plt.xlabel('Wager Count')\n",
    "plt.show ()"
   ]
  },
  {
   "cell_type": "code",
   "execution_count": null,
   "metadata": {
    "collapsed": true
   },
   "outputs": [],
   "source": []
  }
 ],
 "metadata": {
  "kernelspec": {
   "display_name": "Python 2",
   "language": "python",
   "name": "python2"
  },
  "language_info": {
   "codemirror_mode": {
    "name": "ipython",
    "version": 2
   },
   "file_extension": ".py",
   "mimetype": "text/x-python",
   "name": "python",
   "nbconvert_exporter": "python",
   "pygments_lexer": "ipython2",
   "version": "2.7.11"
  }
 },
 "nbformat": 4,
 "nbformat_minor": 0
}
