{
 "cells": [
  {
   "cell_type": "code",
   "execution_count": 3,
   "metadata": {
    "collapsed": true
   },
   "outputs": [],
   "source": [
    "import random\n",
    "import matplotlib\n",
    "import matplotlib.pyplot as plt\n",
    "import time"
   ]
  },
  {
   "cell_type": "code",
   "execution_count": 4,
   "metadata": {
    "collapsed": true
   },
   "outputs": [],
   "source": [
    "sampleSize = 100\n",
    "startingFunds = 10000\n",
    "wagerSize = 100\n",
    "wagerCount = 1000"
   ]
  },
  {
   "cell_type": "code",
   "execution_count": 5,
   "metadata": {
    "collapsed": true
   },
   "outputs": [],
   "source": [
    "def rollDice():\n",
    "    roll = random.randint(1,100)\n",
    "    \n",
    "    # Probability of winning is 49%\n",
    "    if roll == 100:\n",
    "        #print roll,'roll was 100, YOU LOSE!'\n",
    "        return False\n",
    "    elif roll<=50:\n",
    "        #print roll,'roll was 1-50,YOU LOSE!'\n",
    "        return False\n",
    "    elif roll>50:\n",
    "        #print roll,'roll was 51-99,YOU WIN!'\n",
    "        return True\n",
    "    \n",
    "    return roll"
   ]
  },
  {
   "cell_type": "code",
   "execution_count": 9,
   "metadata": {
    "collapsed": false
   },
   "outputs": [
    {
     "name": "stdout",
     "output_type": "stream",
     "text": [
      "\n"
     ]
    }
   ],
   "source": [
    "def adaptive_bettor(funds,initial_wager,wager_count):\n",
    "    value = funds \n",
    "    wager = initial_wager\n",
    "    global broke_count\n",
    "    \n",
    "    wX = []\n",
    "    vY = []\n",
    "    \n",
    "    current_wager = 1\n",
    "    \n",
    "    previousWager = 'win'\n",
    "    \n",
    "    previousWagerAmount = initial_wager\n",
    "    \n",
    "    while current_wager<wager_count:\n",
    "        if previousWager == 'win':\n",
    "            #print \"won the last.\"\n",
    "            if rollDice():\n",
    "                value+=wager\n",
    "                #print value\n",
    "            else:\n",
    "                value -= wager\n",
    "                previousWager = 'loss'\n",
    "                #print value\n",
    "                previousWagerAmount = wager\n",
    "                \n",
    "                if value<0:\n",
    "                    broke_count += 1\n",
    "                    #print 'broke after',current_wager,\"bets\"\n",
    "                    break\n",
    "                        \n",
    "        elif previousWager == 'loss':\n",
    "            #print 'we lost the last one but we will double the wager :/'\n",
    "            \n",
    "            wager = previousWagerAmount * 2\n",
    "            if rollDice():\n",
    "                #print 'we won',wager\n",
    "                value += wager\n",
    "                wager = initial_wager\n",
    "                previousWager = 'win'\n",
    "            else:\n",
    "                #print 'we lost',wager\n",
    "                value -= wager\n",
    "                if value<0:\n",
    "                    broke_count += 1\n",
    "                    #print 'we broke!!!!'\n",
    "                    break\n",
    "                    \n",
    "                #print value\n",
    "                previousWager = 'loss'\n",
    "                previousWagerAmount = wager\n",
    "        \n",
    "        current_wager += 1\n",
    "            \n",
    "        wX.append(current_wager)\n",
    "        vY.append(value)\n",
    "    #print value\n",
    "    plt.plot(wX,vY,'k') "
   ]
  },
  {
   "cell_type": "code",
   "execution_count": 10,
   "metadata": {
    "collapsed": false
   },
   "outputs": [],
   "source": [
    "def simple_bettor(funds,initial_wager,wager_count):\n",
    "    value = funds \n",
    "    wager = initial_wager\n",
    "    \n",
    "    wX = []\n",
    "    vY = []\n",
    "    \n",
    "    current_wager = 1\n",
    "    \n",
    "    while current_wager<wager_count:\n",
    "        if rollDice():\n",
    "            value += wager\n",
    "        else:\n",
    "            value -= wager\n",
    "        \n",
    "        wX.append(current_wager)\n",
    "        vY.append(value)\n",
    "            \n",
    "        current_wager += 1\n",
    "        \n",
    "    if value<0:\n",
    "        value = 'broke!'\n",
    "    \n",
    "    #print 'Funds',value\n",
    "    plt.plot(wX,vY,'c')"
   ]
  },
  {
   "cell_type": "code",
   "execution_count": 11,
   "metadata": {
    "collapsed": false
   },
   "outputs": [
    {
     "name": "stdout",
     "output_type": "stream",
     "text": [
      "death rate:"
     ]
    },
    {
     "ename": "NameError",
     "evalue": "name 'xx' is not defined",
     "output_type": "error",
     "traceback": [
      "\u001b[1;31m---------------------------------------------------------------------------\u001b[0m",
      "\u001b[1;31mNameError\u001b[0m                                 Traceback (most recent call last)",
      "\u001b[1;32m<ipython-input-11-f4c26f87d2fe>\u001b[0m in \u001b[0;36m<module>\u001b[1;34m()\u001b[0m\n\u001b[0;32m      8\u001b[0m \u001b[1;33m\u001b[0m\u001b[0m\n\u001b[0;32m      9\u001b[0m \u001b[0mplt\u001b[0m\u001b[1;33m.\u001b[0m\u001b[0mshow\u001b[0m\u001b[1;33m(\u001b[0m\u001b[1;33m)\u001b[0m\u001b[1;33m\u001b[0m\u001b[0m\n\u001b[1;32m---> 10\u001b[1;33m \u001b[1;32mprint\u001b[0m \u001b[1;34m\"death rate:\"\u001b[0m\u001b[1;33m,\u001b[0m\u001b[1;33m(\u001b[0m\u001b[0mbroke_count\u001b[0m\u001b[1;33m/\u001b[0m\u001b[0mfloat\u001b[0m\u001b[1;33m(\u001b[0m\u001b[0mxx\u001b[0m\u001b[1;33m)\u001b[0m\u001b[1;33m)\u001b[0m \u001b[1;33m*\u001b[0m \u001b[1;36m100\u001b[0m\u001b[1;33m\u001b[0m\u001b[0m\n\u001b[0m\u001b[0;32m     11\u001b[0m \u001b[1;33m\u001b[0m\u001b[0m\n\u001b[0;32m     12\u001b[0m \u001b[0mplt\u001b[0m\u001b[1;33m.\u001b[0m\u001b[0mylabel\u001b[0m\u001b[1;33m(\u001b[0m\u001b[1;34m'Account value'\u001b[0m\u001b[1;33m)\u001b[0m\u001b[1;33m\u001b[0m\u001b[0m\n",
      "\u001b[1;31mNameError\u001b[0m: name 'xx' is not defined"
     ]
    }
   ],
   "source": [
    "broke_count = 0\n",
    "x = 0\n",
    "\n",
    "while x<sampleSize:\n",
    "    x+=1\n",
    "    simple_bettor(startingFunds,wagerSize,wagerCount)\n",
    "    adaptive_bettor(startingFunds,wagerSize,wagerCount)\n",
    "\n",
    "plt.show()\n",
    "print \"death rate:\",(broke_count/float(xx)) * 100\n",
    "\n",
    "plt.ylabel('Account value')\n",
    "plt.xlabel('Wager Count')\n",
    "plt.show ()\n",
    "\n",
    "#plt.axhline(0,color = 'r')\n",
    "#time.sleep(555)"
   ]
  },
  {
   "cell_type": "code",
   "execution_count": null,
   "metadata": {
    "collapsed": true
   },
   "outputs": [],
   "source": []
  }
 ],
 "metadata": {
  "kernelspec": {
   "display_name": "Python 2",
   "language": "python",
   "name": "python2"
  },
  "language_info": {
   "codemirror_mode": {
    "name": "ipython",
    "version": 2
   },
   "file_extension": ".py",
   "mimetype": "text/x-python",
   "name": "python",
   "nbconvert_exporter": "python",
   "pygments_lexer": "ipython2",
   "version": "2.7.11"
  }
 },
 "nbformat": 4,
 "nbformat_minor": 0
}
