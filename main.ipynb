{
 "cells": [
  {
   "cell_type": "code",
   "execution_count": 2,
   "metadata": {
    "collapsed": true
   },
   "outputs": [],
   "source": [
    "import random\n",
    "import matplotlib\n",
    "import matplotlib.pyplot as plt\n",
    "import time"
   ]
  },
  {
   "cell_type": "code",
   "execution_count": 3,
   "metadata": {
    "collapsed": true
   },
   "outputs": [],
   "source": [
    "def rollDice():\n",
    "    roll = random.randint(1,100)\n",
    "    \n",
    "    # Probability of winning is 49%\n",
    "    if roll == 100:\n",
    "        #print roll,'roll was 100, YOU LOSE!'\n",
    "        return False\n",
    "    elif roll<=50:\n",
    "        #print roll,'roll was 1-50,YOU LOSE!'\n",
    "        return False\n",
    "    elif roll>50:\n",
    "        #print roll,'roll was 51-99,YOU WIN!'\n",
    "        return True\n",
    "    \n",
    "    return roll"
   ]
  },
  {
   "cell_type": "code",
   "execution_count": 4,
   "metadata": {
    "collapsed": true
   },
   "outputs": [],
   "source": [
    "def adaptive_bettor(funds,initial_wager,wager_count):\n",
    "    value = funds \n",
    "    wager = initial_wager\n",
    "    global broke_count\n",
    "    \n",
    "    wX = []\n",
    "    vY = []\n",
    "    \n",
    "    current_wager = 1\n",
    "    \n",
    "    previousWager = 'win'\n",
    "    \n",
    "    previousWagerAmount = initial_wager\n",
    "    \n",
    "    while current_wager<wager_count:\n",
    "        if previousWager == 'win':\n",
    "            #print \"won the last.\"\n",
    "            if rollDice():\n",
    "                value+=wager\n",
    "                #print value\n",
    "            else:\n",
    "                value -= wager\n",
    "                previousWager = 'loss'\n",
    "                #print value\n",
    "                previousWagerAmount = wager\n",
    "                \n",
    "                if value<0:\n",
    "                    broke_count += 1\n",
    "                    #print 'broke after',current_wager,\"bets\"\n",
    "                    break\n",
    "                        \n",
    "        elif previousWager == 'loss':\n",
    "            #print 'we lost the last one but we will double the wager :/'\n",
    "            \n",
    "            wager = previousWagerAmount * 2\n",
    "            if rollDice():\n",
    "                #print 'we won',wager\n",
    "                value += wager\n",
    "                wager = initial_wager\n",
    "                previousWager = 'win'\n",
    "            else:\n",
    "                #print 'we lost',wager\n",
    "                value -= wager\n",
    "                if value<0:\n",
    "                    broke_count += 1\n",
    "                    #print 'we broke!!!!'\n",
    "                    break\n",
    "                    \n",
    "                #print value\n",
    "                previousWager = 'loss'\n",
    "                previousWagerAmount = wager\n",
    "        \n",
    "        current_wager += 1\n",
    "            \n",
    "        wX.append(current_wager)\n",
    "        vY.append(value)\n",
    "    #print value\n",
    "    plt.plot(wX,vY) "
   ]
  },
  {
   "cell_type": "code",
   "execution_count": 5,
   "metadata": {
    "collapsed": false
   },
   "outputs": [],
   "source": [
    "def simple_bettor(funds,initial_wager,wager_count):\n",
    "    value = funds \n",
    "    wager = initial_wager\n",
    "    \n",
    "    wX = []\n",
    "    vY = []\n",
    "    \n",
    "    current_wager = 1\n",
    "    \n",
    "    while current_wager<wager_count:\n",
    "        if rollDice():\n",
    "            value += wager\n",
    "        else:\n",
    "            value -= wager\n",
    "        \n",
    "        wX.append(current_wager)\n",
    "        vY.append(value)\n",
    "            \n",
    "        current_wager += 1\n",
    "        \n",
    "    if value<0:\n",
    "        value = 'broke!'\n",
    "    \n",
    "    #print 'Funds',value\n",
    "    plt.plot(wX,vY)"
   ]
  },
  {
   "cell_type": "code",
   "execution_count": null,
   "metadata": {
    "collapsed": false
   },
   "outputs": [],
   "source": [
    "broke_count = 0\n",
    "xx = 0\n",
    "\n",
    "while xx<1000:\n",
    "    xx+=1\n",
    "    adaptive_bettor(10000,100,1000)\n",
    "\n",
    "plt.show()\n",
    "print \"death rate:\",(broke_count/float(xx)) * 100\n",
    "\n",
    "plt.axhline(0,color = 'r')\n",
    "time.sleep(555)"
   ]
  },
  {
   "cell_type": "code",
   "execution_count": null,
   "metadata": {
    "collapsed": true
   },
   "outputs": [],
   "source": [
    "x = 0\n",
    "\n",
    "while x<100:\n",
    "    x+=1 \n",
    "    simple_bettor(0,100,10000)\n",
    "    \n",
    "plt.ylabel('Account value')\n",
    "plt.xlabel('Wager Count')\n",
    "plt.show ()"
   ]
  }
 ],
 "metadata": {
  "kernelspec": {
   "display_name": "Python 2",
   "language": "python",
   "name": "python2"
  },
  "language_info": {
   "codemirror_mode": {
    "name": "ipython",
    "version": 2
   },
   "file_extension": ".py",
   "mimetype": "text/x-python",
   "name": "python",
   "nbconvert_exporter": "python",
   "pygments_lexer": "ipython2",
   "version": "2.7.11"
  }
 },
 "nbformat": 4,
 "nbformat_minor": 0
}
