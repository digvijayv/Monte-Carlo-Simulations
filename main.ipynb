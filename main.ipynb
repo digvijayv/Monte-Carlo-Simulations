{
 "cells": [
  {
   "cell_type": "code",
   "execution_count": 15,
   "metadata": {
    "collapsed": true
   },
   "outputs": [],
   "source": [
    "import random\n",
    "import matplotlib\n",
    "import matplotlib.pyplot as plt\n",
    "import time"
   ]
  },
  {
   "cell_type": "code",
   "execution_count": 22,
   "metadata": {
    "collapsed": true
   },
   "outputs": [],
   "source": [
    "sampleSize = 100\n",
    "startingFunds = 10000\n",
    "wagerSize = 100\n",
    "wagerCount = 100"
   ]
  },
  {
   "cell_type": "code",
   "execution_count": 23,
   "metadata": {
    "collapsed": true
   },
   "outputs": [],
   "source": [
    "def rollDice():\n",
    "    roll = random.randint(1,100)\n",
    "    \n",
    "    # Probability of winning is 49%\n",
    "    if roll == 100:\n",
    "        #print roll,'roll was 100, YOU LOSE!'\n",
    "        return False\n",
    "    elif roll<=50:\n",
    "        #print roll,'roll was 1-50,YOU LOSE!'\n",
    "        return False\n",
    "    elif roll>50:\n",
    "        #print roll,'roll was 51-99,YOU WIN!'\n",
    "        return True\n",
    "    \n",
    "    return roll"
   ]
  },
  {
   "cell_type": "code",
   "execution_count": 24,
   "metadata": {
    "collapsed": false
   },
   "outputs": [],
   "source": [
    "def adaptive_bettor(funds,initial_wager,wager_count):\n",
    "    value = funds \n",
    "    wager = initial_wager\n",
    "    global doubler_busts\n",
    "    global doubler_profits\n",
    "    \n",
    "    wX = []\n",
    "    vY = []\n",
    "    \n",
    "    current_wager = 1\n",
    "    \n",
    "    previousWager = 'win'\n",
    "    \n",
    "    previousWagerAmount = initial_wager\n",
    "    \n",
    "    while current_wager<wager_count:\n",
    "        if previousWager == 'win':\n",
    "            #print \"won the last.\"\n",
    "            if rollDice():\n",
    "                value+=wager\n",
    "                wX.append(current_wager)\n",
    "                vY.append(value)\n",
    "                #print value\n",
    "            else:\n",
    "                value -= wager\n",
    "                previousWager = 'loss'\n",
    "                #print value\n",
    "                previousWagerAmount = wager\n",
    "                wX.append(current_wager)\n",
    "                vY.append(value)\n",
    "                \n",
    "                if value<=0:\n",
    "                    doubler_busts += 1\n",
    "                    #print 'broke after',current_wager,\"bets\"\n",
    "                    break\n",
    "                        \n",
    "        elif previousWager == 'loss':\n",
    "            #print 'we lost the last one but we will double the wager :/'\n",
    "            \n",
    "            wager = previousWagerAmount * 2\n",
    "            if rollDice():\n",
    "                if (value - wager)<0:\n",
    "                    wager = value\n",
    "                #print 'we won',wager\n",
    "                value += wager\n",
    "                wager = initial_wager\n",
    "                previousWager = 'win'\n",
    "                wX.append(current_wager)\n",
    "                vY.append(value)\n",
    "            else:\n",
    "                if (value - wager)<0:\n",
    "                    wager = value\n",
    "                #print 'we lost',wager\n",
    "                if value-wager<0:\n",
    "                    wager = value\n",
    "                value -= wager\n",
    "                previousWagerAmount = wager\n",
    "                wX.append(current_wager)\n",
    "                vY.append(value)\n",
    "                if value<0:\n",
    "                    doubler_busts += 1\n",
    "                    #print 'we broke!!!!'\n",
    "                    break\n",
    "                    \n",
    "                #print value\n",
    "                previousWager = 'loss'\n",
    "                \n",
    "        current_wager += 1\n",
    "            \n",
    "\n",
    "    #print value\n",
    "    plt.plot(wX,vY,'k')\n",
    "    if value >funds:\n",
    "        doubler_profits += 1 "
   ]
  },
  {
   "cell_type": "code",
   "execution_count": 25,
   "metadata": {
    "collapsed": false
   },
   "outputs": [],
   "source": [
    "def simple_bettor(funds,initial_wager,wager_count):\n",
    "    value = funds \n",
    "    wager = initial_wager\n",
    "    global simple_busts\n",
    "    global simple_profits\n",
    "    \n",
    "    wX = []\n",
    "    vY = []\n",
    "    \n",
    "    current_wager = 1\n",
    "    \n",
    "    while current_wager<=wager_count:\n",
    "        if rollDice():\n",
    "            value += wager\n",
    "        else:\n",
    "            value -= wager\n",
    "        \n",
    "        wX.append(current_wager)\n",
    "        vY.append(value)\n",
    "            \n",
    "        current_wager += 1\n",
    "        \n",
    "    if value<=0:\n",
    "        value = 'broke!'\n",
    "        simple_busts += 1\n",
    "        \n",
    "    #print 'Funds',value\n",
    "    plt.plot(wX,vY,'c')\n",
    "    if value>funds:\n",
    "        simple_profits+=1"
   ]
  },
  {
   "cell_type": "code",
   "execution_count": 27,
   "metadata": {
    "collapsed": false
   },
   "outputs": [
    {
     "name": "stdout",
     "output_type": "stream",
     "text": [
      "simple bettor bust chance 0.0\n",
      "doubler bettor bust chance 24.0\n",
      "simple bettor profit chance 32.0\n",
      "doubler bettor profit chance 70.0\n"
     ]
    }
   ],
   "source": [
    "simple_busts = 0.0\n",
    "doubler_busts = 0.0\n",
    "simple_profits = 0.0\n",
    "doubler_profits = 0.0\n",
    "x = 0\n",
    "\n",
    "while x<sampleSize:\n",
    "    x+=1\n",
    "    simple_bettor(startingFunds,wagerSize,wagerCount)\n",
    "    adaptive_bettor(startingFunds,wagerSize,wagerCount)\n",
    "\n",
    "print \"simple bettor bust chance\",(simple_busts/sampleSize)*100.0\n",
    "print \"doubler bettor bust chance\",(doubler_busts/sampleSize)*100.0\n",
    "\n",
    "print \"simple bettor profit chance\",(simple_profits/sampleSize)*100.0\n",
    "print \"doubler bettor profit chance\",(doubler_profits/sampleSize)*100.0\n",
    "\n",
    "plt.ylabel('Account value')\n",
    "plt.xlabel('Wager Count')\n",
    "plt.show ()\n",
    "\n",
    "#plt.axhline(0,color = 'r')\n",
    "#time.sleep(555)"
   ]
  },
  {
   "cell_type": "code",
   "execution_count": null,
   "metadata": {
    "collapsed": true
   },
   "outputs": [],
   "source": []
  },
  {
   "cell_type": "code",
   "execution_count": null,
   "metadata": {
    "collapsed": true
   },
   "outputs": [],
   "source": []
  }
 ],
 "metadata": {
  "kernelspec": {
   "display_name": "Python 2",
   "language": "python",
   "name": "python2"
  },
  "language_info": {
   "codemirror_mode": {
    "name": "ipython",
    "version": 2
   },
   "file_extension": ".py",
   "mimetype": "text/x-python",
   "name": "python",
   "nbconvert_exporter": "python",
   "pygments_lexer": "ipython2",
   "version": "2.7.11"
  }
 },
 "nbformat": 4,
 "nbformat_minor": 0
}
