{
 "cells": [
  {
   "cell_type": "code",
   "execution_count": 12,
   "metadata": {
    "collapsed": true
   },
   "outputs": [],
   "source": [
    "import random"
   ]
  },
  {
   "cell_type": "code",
   "execution_count": 18,
   "metadata": {
    "collapsed": true
   },
   "outputs": [],
   "source": [
    "def rollDice():\n",
    "    roll = random.randint(1,100)\n",
    "    \n",
    "    if roll == 100:\n",
    "        #print roll,'roll was 100, YOU LOSE!'\n",
    "        return False\n",
    "    elif roll<=50:\n",
    "        #print roll,'roll was 1-50,YOU LOSE!'\n",
    "        return False\n",
    "    elif roll>50:\n",
    "        #print roll,'roll was 51-99,YOU WIN!'\n",
    "        return True\n",
    "    \n",
    "    return roll"
   ]
  },
  {
   "cell_type": "code",
   "execution_count": 19,
   "metadata": {
    "collapsed": true
   },
   "outputs": [],
   "source": [
    "def simple_bettor(funds,initial_wager,wager_count):\n",
    "    value = funds \n",
    "    wager = initial_wager\n",
    "    \n",
    "    current_wager = 0\n",
    "    \n",
    "    while current_wager<wager_count:\n",
    "        if rollDice():\n",
    "            value += wager\n",
    "        else:\n",
    "            value -= wager\n",
    "            \n",
    "        current_wager += 1\n",
    "    print 'Funds',value"
   ]
  },
  {
   "cell_type": "code",
   "execution_count": 24,
   "metadata": {
    "collapsed": true
   },
   "outputs": [
    {
     "name": "stdout",
     "output_type": "stream",
     "text": [
      "Funds 8600\n",
      "Funds 10400\n",
      "Funds 9800\n",
      "Funds 10400\n",
      "Funds 9800\n",
      "Funds 11800\n",
      "Funds 10200\n",
      "Funds 10000\n",
      "Funds 11600\n",
      "Funds 12000\n",
      "Funds 10000\n",
      "Funds 9800\n",
      "Funds 11600\n",
      "Funds 9000\n",
      "Funds 9600\n",
      "Funds 11400\n",
      "Funds 11400\n",
      "Funds 9000\n",
      "Funds 9000\n",
      "Funds 8400\n",
      "Funds 10600\n",
      "Funds 10800\n",
      "Funds 9600\n",
      "Funds 9800\n",
      "Funds 9400\n",
      "Funds 9600\n",
      "Funds 11400\n",
      "Funds 9400\n",
      "Funds 9200\n",
      "Funds 9600\n",
      "Funds 8200\n",
      "Funds 10200\n",
      "Funds 11200\n",
      "Funds 9600\n",
      "Funds 8200\n",
      "Funds 10600\n",
      "Funds 9600\n",
      "Funds 9600\n",
      "Funds 9000\n",
      "Funds 10600\n",
      "Funds 10400\n",
      "Funds 10200\n",
      "Funds 9800\n",
      "Funds 11400\n",
      "Funds 8600\n",
      "Funds 9400\n",
      "Funds 9000\n",
      "Funds 9600\n",
      "Funds 9200\n",
      "Funds 9600\n",
      "Funds 9200\n",
      "Funds 10000\n",
      "Funds 10000\n",
      "Funds 10200\n",
      "Funds 8800\n",
      "Funds 10800\n",
      "Funds 9600\n",
      "Funds 9400\n",
      "Funds 8800\n",
      "Funds 9600\n",
      "Funds 10600\n",
      "Funds 10600\n",
      "Funds 9200\n",
      "Funds 9200\n",
      "Funds 9200\n",
      "Funds 10400\n",
      "Funds 11800\n",
      "Funds 7400\n",
      "Funds 10800\n",
      "Funds 8400\n",
      "Funds 10000\n",
      "Funds 10200\n",
      "Funds 9600\n",
      "Funds 9600\n",
      "Funds 10600\n",
      "Funds 11000\n",
      "Funds 9200\n",
      "Funds 9600\n",
      "Funds 10600\n",
      "Funds 10000\n",
      "Funds 10400\n",
      "Funds 9400\n",
      "Funds 8200\n",
      "Funds 10000\n",
      "Funds 9000\n",
      "Funds 11200\n",
      "Funds 10200\n",
      "Funds 10400\n",
      "Funds 9600\n",
      "Funds 9200\n",
      "Funds 10800\n",
      "Funds 10400\n",
      "Funds 8000\n",
      "Funds 9800\n",
      "Funds 10000\n",
      "Funds 10000\n",
      "Funds 9000\n",
      "Funds 9200\n",
      "Funds 8800\n",
      "Funds 8800\n"
     ]
    }
   ],
   "source": [
    "x = 0\n",
    "\n",
    "while x<100:\n",
    "    x+=1\n",
    "    simple_bettor(10000,100,100)"
   ]
  },
  {
   "cell_type": "code",
   "execution_count": null,
   "metadata": {
    "collapsed": true
   },
   "outputs": [],
   "source": []
  }
 ],
 "metadata": {
  "kernelspec": {
   "display_name": "Python 2",
   "language": "python",
   "name": "python2"
  },
  "language_info": {
   "codemirror_mode": {
    "name": "ipython",
    "version": 2
   },
   "file_extension": ".py",
   "mimetype": "text/x-python",
   "name": "python",
   "nbconvert_exporter": "python",
   "pygments_lexer": "ipython2",
   "version": "2.7.11"
  }
 },
 "nbformat": 4,
 "nbformat_minor": 0
}
