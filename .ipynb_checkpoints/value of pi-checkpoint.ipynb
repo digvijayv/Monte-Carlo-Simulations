{
 "cells": [
  {
   "cell_type": "code",
   "execution_count": 66,
   "metadata": {
    "collapsed": true
   },
   "outputs": [],
   "source": [
    "from random import randint\n",
    "from __future__ import division\n",
    "from math import pi\n",
    "import matplotlib.pyplot as plt"
   ]
  },
  {
   "cell_type": "code",
   "execution_count": 79,
   "metadata": {
    "collapsed": false
   },
   "outputs": [],
   "source": [
    "def inTheCircle(x,y,side):\n",
    "    \n",
    "    if ((x*x)+(y*y))<(side*side):\n",
    "        return True\n",
    "    else:\n",
    "        return False"
   ]
  },
  {
   "cell_type": "code",
   "execution_count": 80,
   "metadata": {
    "collapsed": false
   },
   "outputs": [],
   "source": [
    "def calculate_and_plot(side):\n",
    "    nos_of_sample = side*side\n",
    "\n",
    "    #assert nos_of_sample<=(side*side)\n",
    "\n",
    "    pts_in_circle = 0\n",
    "    pts_out_circle = 0\n",
    "    \n",
    "    sample = 0\n",
    "    X = []\n",
    "    err = []\n",
    "    \n",
    "    while (sample)<nos_of_sample:\n",
    "        X.append(sample)\n",
    "        sample+=1\n",
    "        x = randint(0,side)\n",
    "        y = randint(0,side)\n",
    "        \n",
    "        if inTheCircle(x,y,side):\n",
    "            pts_in_circle+=1\n",
    "        else:\n",
    "            pts_out_circle+=1\n",
    "            \n",
    "        predicted_value = (pts_in_circle/nos_of_sample)*4\n",
    "        expected_value = pi\n",
    "        error = (abs(predicted_value-expected_value)/expected_value)\n",
    "        err.append(error)\n",
    "    \n",
    "    \n",
    "    p_error = (abs(predicted_value-expected_value)/expected_value)\n",
    "        \n",
    "    print pts_in_circle\n",
    "    print pts_out_circle\n",
    "    print \"predicted_value: \",predicted_value\n",
    "    print \"expected_value: \",expected_value\n",
    "    print \"error percent: \",p_error\n",
    "    plt.plot(X,err)\n",
    "    plt.show()"
   ]
  },
  {
   "cell_type": "code",
   "execution_count": 84,
   "metadata": {
    "collapsed": false
   },
   "outputs": [
    {
     "name": "stdout",
     "output_type": "stream",
     "text": [
      "501890\n",
      "138110\n",
      "predicted_value:  3.1368125\n",
      "expected_value:  3.14159265359\n",
      "error percent:  0.00152157014511\n"
     ]
    }
   ],
   "source": [
    "calculate_and_plot(800)"
   ]
  },
  {
   "cell_type": "code",
   "execution_count": null,
   "metadata": {
    "collapsed": false
   },
   "outputs": [],
   "source": []
  },
  {
   "cell_type": "code",
   "execution_count": null,
   "metadata": {
    "collapsed": false
   },
   "outputs": [],
   "source": []
  },
  {
   "cell_type": "code",
   "execution_count": null,
   "metadata": {
    "collapsed": false
   },
   "outputs": [],
   "source": []
  },
  {
   "cell_type": "code",
   "execution_count": null,
   "metadata": {
    "collapsed": true
   },
   "outputs": [],
   "source": []
  }
 ],
 "metadata": {
  "kernelspec": {
   "display_name": "Python 2",
   "language": "python",
   "name": "python2"
  },
  "language_info": {
   "codemirror_mode": {
    "name": "ipython",
    "version": 2
   },
   "file_extension": ".py",
   "mimetype": "text/x-python",
   "name": "python",
   "nbconvert_exporter": "python",
   "pygments_lexer": "ipython2",
   "version": "2.7.11"
  }
 },
 "nbformat": 4,
 "nbformat_minor": 0
}
