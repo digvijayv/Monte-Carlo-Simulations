{
 "cells": [
  {
   "cell_type": "code",
   "execution_count": 1,
   "metadata": {
    "collapsed": true
   },
   "outputs": [],
   "source": [
    "import random\n",
    "import matplotlib\n",
    "import matplotlib.pyplot as plt\n",
    "import time\n",
    "from __future__ import division"
   ]
  },
  {
   "cell_type": "code",
   "execution_count": 2,
   "metadata": {
    "collapsed": true
   },
   "outputs": [],
   "source": [
    "lower_bust = 31.235\n",
    "higher_profit = 63.208"
   ]
  },
  {
   "cell_type": "code",
   "execution_count": 3,
   "metadata": {
    "collapsed": true
   },
   "outputs": [],
   "source": [
    "def rollDice_():\n",
    "    roll = random.randint(1,100)\n",
    "    \n",
    "    # Probability of winning is 49%\n",
    "    if roll == 100:\n",
    "        #print roll,'roll was 100, YOU LOSE!'\n",
    "        return False\n",
    "    elif roll<=50:\n",
    "        #print roll,'roll was 1-50,YOU LOSE!'\n",
    "        return False\n",
    "    elif roll>50:\n",
    "        #print roll,'roll was 51-99,YOU WIN!'\n",
    "        return True\n",
    "    \n",
    "    return roll"
   ]
  },
  {
   "cell_type": "code",
   "execution_count": 4,
   "metadata": {
    "collapsed": true
   },
   "outputs": [],
   "source": [
    "def rollDice():\n",
    "    roll = random.randint(1,100)\n",
    "    \n",
    "    # Probability of winning is 50%\n",
    "    if roll<=50:\n",
    "        #print roll,'roll was 1-50,YOU LOSE!'\n",
    "        return False\n",
    "    elif roll>50:\n",
    "        #print roll,'roll was 51-100,YOU WIN!'\n",
    "        return True\n",
    "    \n",
    "    return roll"
   ]
  },
  {
   "cell_type": "code",
   "execution_count": 5,
   "metadata": {
    "collapsed": false
   },
   "outputs": [],
   "source": [
    "def dAlembert(funds,initial_wager,wager_count):\n",
    "    \n",
    "    global da_busts\n",
    "    global da_profits\n",
    "    global ret\n",
    "    global da_lost\n",
    "    \n",
    "    wX = []\n",
    "    vY = []\n",
    "    \n",
    "    value = funds\n",
    "    wager = initial_wager\n",
    "    currentWager = 1\n",
    "    previousWager = 'win'\n",
    "    \n",
    "    while currentWager <= wager_count:\n",
    "        wX.append(currentWager)\n",
    "        vY.append(value)\n",
    "        \n",
    "        if previousWager == 'win':\n",
    "            wager -= initial_wager\n",
    "                                             \n",
    "        elif previousWager == 'loss':\n",
    "            wager += initial_wager\n",
    "            \n",
    "                \n",
    "        if rollDice():\n",
    "            value += wager\n",
    "            previousWager = 'win'\n",
    "        else:\n",
    "            value -= wager\n",
    "            previousWager = 'loss'\n",
    "       \n",
    "        if value<= 0 :\n",
    "            da_busts += 1\n",
    "            break\n",
    "            \n",
    "        currentWager += 1\n",
    "    \n",
    "    if value > funds:\n",
    "        da_profits += 1\n",
    "    else:\n",
    "        da_lost += 1\n",
    "    \n",
    "    ret+=value\n",
    "    plt.plot(wX,vY)\n",
    "            "
   ]
  },
  {
   "cell_type": "code",
   "execution_count": null,
   "metadata": {
    "collapsed": true
   },
   "outputs": [],
   "source": [
    "while True:\n",
    "    da_busts = 0\n",
    "    da_profits = 0\n",
    "    ret = 0\n",
    "    da_lost = 0\n",
    "\n",
    "\n",
    "    daSampSize = 1000\n",
    "    startingFunds = 100000\n",
    "    wagerSize = random.randint(1.0,1000.00)\n",
    "    wagerCount = random.randint(10.0,10000)\n",
    "\n",
    "    counter = 1\n",
    "\n",
    "    while counter <=daSampSize:\n",
    "        counter+=1\n",
    "        dAlembert(startingFunds,wagerSize,wagerCount)\n",
    "    \n",
    "    ROI = ret - (daSampSize*startingFunds)\n",
    "    totalInvested = daSampSize*startingFunds\n",
    "    \n",
    "    percentROI = (ROI/totalInvested)*100.00\n",
    "    wagerSizePercent = (wagerSize/startingFunds)*100.0\n",
    "    \n",
    "    if percentROI > 1:\n",
    "        '''\n",
    "        print 'Total invested:',totalInvested\n",
    "        print 'Total return :',ret\n",
    "        print 'R-I:',ret - (daSampSize*startingFunds)\n",
    "        print 'Bust Rate:',(da_busts/daSampSize)*100.0\n",
    "        print 'Profit rate:',(da_profits/daSampSize)*100.0\n",
    "        print \"lost money: \",(da_lost/daSampSize)*100.0\n",
    "        print \"########################################\"\n",
    "        '''\n",
    "        saveFile = open('monteCarloLiberal.csv','a')\n",
    "        saveLine = '\\n' + str(percentROI) + ','+str(wagerSizePercent)+ ','+ str(wagerCount)+',g'\n",
    "        saveFile.write(saveLine)\n",
    "        saveFile.close()\n",
    "    elif percentROI < 1:\n",
    "        '''\n",
    "        print 'Total invested:',totalInvested\n",
    "        print 'Total return :',ret\n",
    "        print 'R-I:',ret - (daSampSize*startingFunds)\n",
    "        print 'Bust Rate:',(da_busts/daSampSize)*100.0\n",
    "        print 'Profit rate:',(da_profits/daSampSize)*100.0\n",
    "        print \"lost money: \",(da_lost/daSampSize)*100.0\n",
    "        print \"########################################\"\n",
    "        '''\n",
    "        saveFile = open('monteCarloLiberal.csv','a')\n",
    "        saveLine = '\\n' + str(percentROI) + ','+str(wagerSizePercent)+ ','+ str(wagerCount)+',r'\n",
    "        saveFile.write(saveLine)\n",
    "        saveFile.close()\n",
    "    \n",
    "    saveLine = 'Percent ROI:' + str(percentROI) + '\\nWagerpercent'+str(wagerSizePercent)+ '\\nWager Count'+ str(wagerCount)+'\\n'\n",
    "        "
   ]
  },
  {
   "cell_type": "code",
   "execution_count": 10,
   "metadata": {
    "collapsed": true
   },
   "outputs": [],
   "source": [
    "plt.show()"
   ]
  },
  {
   "cell_type": "code",
   "execution_count": null,
   "metadata": {
    "collapsed": true
   },
   "outputs": [],
   "source": []
  }
 ],
 "metadata": {
  "kernelspec": {
   "display_name": "Python 2",
   "language": "python",
   "name": "python2"
  },
  "language_info": {
   "codemirror_mode": {
    "name": "ipython",
    "version": 2
   },
   "file_extension": ".py",
   "mimetype": "text/x-python",
   "name": "python",
   "nbconvert_exporter": "python",
   "pygments_lexer": "ipython2",
   "version": "2.7.11"
  }
 },
 "nbformat": 4,
 "nbformat_minor": 0
}
