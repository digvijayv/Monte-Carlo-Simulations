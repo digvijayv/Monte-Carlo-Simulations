{
 "cells": [
  {
   "cell_type": "code",
   "execution_count": 71,
   "metadata": {
    "collapsed": true
   },
   "outputs": [],
   "source": [
    "import random\n",
    "import matplotlib\n",
    "import matplotlib.pyplot as plt\n",
    "import time\n",
    "from __future__ import division"
   ]
  },
  {
   "cell_type": "code",
   "execution_count": 72,
   "metadata": {
    "collapsed": true
   },
   "outputs": [],
   "source": [
    "lower_bust = 31.235\n",
    "higher_profit = 63.208"
   ]
  },
  {
   "cell_type": "code",
   "execution_count": 73,
   "metadata": {
    "collapsed": true
   },
   "outputs": [],
   "source": [
    "def rollDice_():\n",
    "    roll = random.randint(1,100)\n",
    "    \n",
    "    # Probability of winning is 49%\n",
    "    if roll == 100:\n",
    "        #print roll,'roll was 100, YOU LOSE!'\n",
    "        return False\n",
    "    elif roll<=50:\n",
    "        #print roll,'roll was 1-50,YOU LOSE!'\n",
    "        return False\n",
    "    elif roll>50:\n",
    "        #print roll,'roll was 51-99,YOU WIN!'\n",
    "        return True\n",
    "    \n",
    "    return roll"
   ]
  },
  {
   "cell_type": "code",
   "execution_count": 74,
   "metadata": {
    "collapsed": true
   },
   "outputs": [],
   "source": [
    "def rollDice():\n",
    "    roll = random.randint(1,100)\n",
    "    \n",
    "    # Probability of winning is 50%\n",
    "    if roll<=50:\n",
    "        #print roll,'roll was 1-50,YOU LOSE!'\n",
    "        return False\n",
    "    elif roll>50:\n",
    "        #print roll,'roll was 51-100,YOU WIN!'\n",
    "        return True\n",
    "    \n",
    "    return roll"
   ]
  },
  {
   "cell_type": "code",
   "execution_count": 77,
   "metadata": {
    "collapsed": false
   },
   "outputs": [],
   "source": [
    "def dAlembert(funds,initial_wager,wager_count):\n",
    "    \n",
    "    global da_busts\n",
    "    global da_profits\n",
    "    global ret\n",
    "    global da_lost\n",
    "    \n",
    "    wX = []\n",
    "    vY = []\n",
    "    \n",
    "    value = funds\n",
    "    wager = initial_wager\n",
    "    currentWager = 1\n",
    "    previousWager = 'win'\n",
    "    \n",
    "    while currentWager <= wager_count:\n",
    "        wX.append(currentWager)\n",
    "        vY.append(value)\n",
    "        \n",
    "        if previousWager == 'win':\n",
    "            wager -= initial_wager\n",
    "                                             \n",
    "        elif previousWager == 'loss':\n",
    "            wager += initial_wager\n",
    "            \n",
    "                \n",
    "        if rollDice():\n",
    "            value += wager\n",
    "            previousWager = 'win'\n",
    "        else:\n",
    "            value -= wager\n",
    "            previousWager = 'loss'\n",
    "       \n",
    "        if value<= 0 :\n",
    "            da_busts += 1\n",
    "            break\n",
    "            \n",
    "        currentWager += 1\n",
    "    \n",
    "    if value > funds:\n",
    "        da_profits += 1\n",
    "    else:\n",
    "        da_lost += 1\n",
    "    \n",
    "    ret+=value\n",
    "    plt.plot(wX,vY)\n",
    "            "
   ]
  },
  {
   "cell_type": "code",
   "execution_count": 87,
   "metadata": {
    "collapsed": false
   },
   "outputs": [
    {
     "name": "stdout",
     "output_type": "stream",
     "text": [
      "Total invested: 100000000\n",
      "Total return : 102267100\n",
      "ROI 2267100\n",
      "Bust Rate: 17.7\n",
      "Profit rate: 66.6\n",
      "lost money:  33.4\n"
     ]
    }
   ],
   "source": [
    "da_busts = 0\n",
    "da_profits = 0\n",
    "ret = 0\n",
    "da_lost = 0\n",
    "\n",
    "\n",
    "daSampSize = 1000\n",
    "startingFunds = 100000\n",
    "wagerSize = 100\n",
    "wagerCount = 1000\n",
    "\n",
    "counter = 1\n",
    "\n",
    "while counter <=daSampSize:\n",
    "    counter+=1\n",
    "    dAlembert(startingFunds,wagerSize,wagerCount)\n",
    "    \n",
    "print 'Total invested:',daSampSize*startingFunds\n",
    "print 'Total return :',ret\n",
    "print 'R-I:',ret - (daSampSize*startingFunds)\n",
    "print 'Bust Rate:',(da_busts/daSampSize)*100.0\n",
    "print 'Profit rate:',(da_profits/daSampSize)*100.0\n",
    "print \"lost money: \",(da_lost/daSampSize)*100.0"
   ]
  },
  {
   "cell_type": "code",
   "execution_count": 88,
   "metadata": {
    "collapsed": true
   },
   "outputs": [],
   "source": [
    "plt.show()"
   ]
  },
  {
   "cell_type": "code",
   "execution_count": null,
   "metadata": {
    "collapsed": true
   },
   "outputs": [],
   "source": []
  }
 ],
 "metadata": {
  "kernelspec": {
   "display_name": "Python 2",
   "language": "python",
   "name": "python2"
  },
  "language_info": {
   "codemirror_mode": {
    "name": "ipython",
    "version": 2
   },
   "file_extension": ".py",
   "mimetype": "text/x-python",
   "name": "python",
   "nbconvert_exporter": "python",
   "pygments_lexer": "ipython2",
   "version": "2.7.11"
  }
 },
 "nbformat": 4,
 "nbformat_minor": 0
}
